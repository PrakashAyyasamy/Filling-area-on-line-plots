{
  "nbformat": 4,
  "nbformat_minor": 0,
  "metadata": {
    "colab": {
      "name": "Filling Area on Line Plots.ipynb",
      "provenance": []
    },
    "kernelspec": {
      "name": "python3",
      "display_name": "Python 3"
    },
    "language_info": {
      "name": "python"
    }
  },
  "cells": [
    {
      "cell_type": "code",
      "execution_count": null,
      "metadata": {
        "id": "6B8dZC6ElrZK"
      },
      "outputs": [],
      "source": [
        "import pandas as pd\n",
        "from matplotlib import pyplot as plt\n",
        "\n",
        "plt.style.use('fivethirtyeight')\n",
        "data=pd.read_csv('/content/All_dev_salaries_filling_area_line_plot.csv')\n",
        "ages=data['Age']\n",
        "dev_salaries = data['All_Devs']\n",
        "py_salaries = data['Python']\n",
        "js_salaries = data['JavaScript']\n",
        "\n",
        "plt.plot(ages,dev_salaries,color='#444444',linestyle='--',label='all devs')\n",
        "\n",
        "plt.plot(ages,py_salaries,label='python',color='Red')\n",
        "\n",
        "overall_median = 60000\n",
        "\n",
        "plt.fill_between(ages, py_salaries,dev_salaries,where=(py_salaries>dev_salaries),interpolate=True, alpha=0.25, label='above_average')\n",
        "\n",
        "plt.fill_between(ages, py_salaries,overall_median,where=(py_salaries<dev_salaries),color='red',interpolate=True, alpha=0.25, label='below_average')\n",
        "\n",
        "plt.legend(loc='upper left')\n",
        "plt.title(\"Median salary(USD) by age\")\n",
        "plt.xlabel('Ages')\n",
        "plt.ylabel('Median salary(USD)')\n",
        "plt.tight_layout()\n",
        "plt.show()"
      ]
    }
  ]
}